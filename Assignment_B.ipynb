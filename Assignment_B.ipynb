{
  "nbformat": 4,
  "nbformat_minor": 0,
  "metadata": {
    "colab": {
      "name": "Assignment_B_new.ipynb",
      "provenance": [],
      "include_colab_link": true
    },
    "kernelspec": {
      "name": "python3",
      "display_name": "Python 3"
    },
    "language_info": {
      "name": "python"
    }
  },
  "cells": [
    {
      "cell_type": "markdown",
      "metadata": {
        "id": "view-in-github",
        "colab_type": "text"
      },
      "source": [
        "<a href=\"https://colab.research.google.com/github/m-ia19/Java_OPP/blob/master/Assignment_B.ipynb\" target=\"_parent\"><img src=\"https://colab.research.google.com/assets/colab-badge.svg\" alt=\"Open In Colab\"/></a>"
      ]
    },
    {
      "cell_type": "markdown",
      "metadata": {
        "id": "gi7Q2Umue4XH"
      },
      "source": [
        "# Assignment B Week 1 \n",
        "\n",
        "## Linear-Nonlinear-Poisson (LNP) Model\n",
        "\n",
        "This is the assignment B for Week 1. Below, you find two exercises. Try to finish them, commit your submission notebook, and check out the test result!\n",
        "\n",
        "**Note**: Once you code the two function `estimate_nl` and `estimate_rf` in this notebook, you need to add them to the submission.ipynb file.\n",
        " \n",
        "To check out instructions on how to complete your assignment, you can check out info repo:\n",
        "https://github.com/MScNE-LSMLSDA/course-info\n"
      ]
    },
    {
      "cell_type": "markdown",
      "metadata": {
        "id": "z_fpG6H4g04G"
      },
      "source": [
        "## Exercise 0\n",
        "\n",
        "For the first Exercise, we will use spike triggered average (STA) to compute the optima receptive field (RF) to a neuron, based on its responses on random noise. Then, we will use this estimated linear filter and the actual stimulus You can read about RF estimation on the material in the Moodle.\n",
        "\n",
        "You will be given as source data:\n",
        "  1. A spike train recorded from the neuron\n",
        "  2. The movie of white noise that was displayed to the neuron consisting of 200,000 frames, each one 20 pixels by 20 pixels.\n",
        "\n",
        "All data have a sampling rate of 1KHz (1 bin = 1ms)\n",
        "\n",
        "The source data downloads automatically in the first cell. If you are working on your computer, data will be placed in your working directory. Data is in [www.portugueslab.com/courses/LSMLSDA2023/stimulus.npy](https://www.portugueslab.com/courses/LSMLSDA2023/stimulus.npy) and [www.portugueslab.com/courses/LSMLSDA2023/spikes.npy](https://www.portugueslab.com/courses/LSMLSDA2023/spikes.npy).\n",
        "\n",
        "\n",
        " 1) Write a function `estimate_rf(st, sp, num_window)` that takes three inputs, the stimulus-train, the spike-train and a temporal window, and returns the receptive field **rf** of the neuron in question  estimated by spike triggered average within the given window. \n",
        " \n",
        " Inputs:\n",
        " - **st**: 3D np.array, (nb_pixels_w x nb_pixels_h x nb_timepoints )\n",
        " - **sp**: 1D np.array, nb_timepoints \n",
        " - **num_window**: int, length of the window\n",
        " Output:\n",
        " - **rf** receptive field, 2D np.array (nb_pixels_w x nb_pixels_h)"
      ]
    },
    {
      "cell_type": "code",
      "metadata": {
        "id": "f2mmGZPxe-gZ"
      },
      "source": [
        "# Here, we download the data:\n",
        "\n",
        "import urllib.request\n",
        "import numpy as np\n",
        "\n",
        "def fetch_data():\n",
        "  files = [\"stimulus.npy\", \"spikes.npy\"]\n",
        "  try:\n",
        "    return [np.load(f) for f in files]\n",
        "  except FileNotFoundError:\n",
        "\n",
        "    for f in files:\n",
        "      urllib.request.urlretrieve(f'http://www.portugueslab.com/courses/LSMLSDA2023/{f}', f)\n",
        "  return [np.load(f) for f in files]\n",
        "\n",
        "stim, spikes = fetch_data()\n",
        "\n"
      ],
      "execution_count": 3,
      "outputs": []
    },
    {
      "cell_type": "code",
      "source": [
        "spikes.shape\n",
        "\n",
        "spike_times = np.nonzero(spikes)[0]\n",
        "\n",
        "spike_times\n",
        "\n",
        "a = np.array([1,2,3])\n",
        "a[a>2]\n",
        "b = range(1,2)\n",
        "a[b]"
      ],
      "metadata": {
        "id": "fPntxVoiyu1a",
        "outputId": "aca0a6b3-5bf1-4677-a9f0-b9dd0ced67aa",
        "colab": {
          "base_uri": "https://localhost:8080/"
        }
      },
      "execution_count": 14,
      "outputs": [
        {
          "output_type": "execute_result",
          "data": {
            "text/plain": [
              "array([2])"
            ]
          },
          "metadata": {},
          "execution_count": 14
        }
      ]
    },
    {
      "cell_type": "markdown",
      "metadata": {
        "id": "ExHUpjEefMnr"
      },
      "source": []
    },
    {
      "cell_type": "code",
      "metadata": {
        "id": "TbmvKHC9fL2A"
      },
      "source": [
        "# Function to estimate the RF\n",
        "\n",
        "def estimate_rf(st,sp,num_window):\n",
        "  spike_times = np.nonzero(sp)[0]\n",
        "  spike_times = spike_times[spike_times > num_window]\n",
        "  num_spikes = len(spike_times)\n",
        "  avg = np.zeros((len(st),len(st[0]),num_window))\n",
        "\n",
        "  for i in range(num_spikes):\n",
        "    # Find the indexes of the time window preceding the event\n",
        "    w_id = range(spike_times[i] - num_window, spike_times[i])\n",
        "    # Add the stim from this window to the average\n",
        "    avg = avg + st[:,:,w_id]\n",
        "\n",
        "  rf = (avg / num_spikes*len(avg[0,0,:]))[:,:,0]\n",
        "\n",
        "\n",
        "\n",
        "\n",
        "  \n",
        "  return rf"
      ],
      "execution_count": 1,
      "outputs": []
    },
    {
      "cell_type": "code",
      "metadata": {
        "id": "PANINRFFfRmm",
        "outputId": "291d5689-9133-47f3-856e-ac37934a6137",
        "colab": {
          "base_uri": "https://localhost:8080/",
          "height": 447
        }
      },
      "source": [
        "a= estimate_rf(stim, spikes, 50)\n",
        "import matplotlib.pyplot as plt \n",
        "plt.imshow(a)\n",
        "print(np.max(a))"
      ],
      "execution_count": 4,
      "outputs": [
        {
          "output_type": "stream",
          "name": "stdout",
          "text": [
            "0.6621684055329561\n"
          ]
        },
        {
          "output_type": "display_data",
          "data": {
            "text/plain": [
              "<Figure size 640x480 with 1 Axes>"
            ],
            "image/png": "[encoded data removed]"
          },
          "metadata": {}
        }
      ]
    },
    {
      "cell_type": "markdown",
      "metadata": {
        "id": "UtYhFskRfR-1"
      },
      "source": [
        "## Exercise 1 [optional]\n",
        "\n",
        "As you have read in the course material for the assignment, LNP models of neurons consist of three parts:\n",
        " 1. a linear filter that compute the firing rate as linear term, \n",
        " 2. a nonlinear term that takes as input the result of the linear filter and applies a nonlinear function to it (the easiest can be a rectified linear function, or a saturating sigmoid) to produce the expected firing rate. This is reasonable to expect as neurons have a threshold to fire!\n",
        " 3. a poisson process that generate spikes from the expected firing rate computed in the nonlinear function.\n",
        "\n",
        "In Exercise 0, we calculated the RF for the neuron (which under some assumptions can be done even not considering the nonlinearity). Now, we need to see if we can reconstruct the nonlinearity considering what our linear RF predicts as the neuron activity, and the neuron actual firing. \n",
        "\n",
        "Your task is to try to estimate the nonlinearity function of the neuron. The nonlinearity will be a function taking as input activations computed using the RF and the stimulus and will produce final firing rate in Hz.\n",
        "\n",
        "There can be several ways of doing this, In general, you will need to proceed in this way:\n",
        "1. Calculate linear activation of the neuron from the stimulus and the receptive field.\n",
        "2. Understand how this expected linear activation of the neuron relate with the actual firing rate of the neuron. (One way can be to can use percentiles -or some other binning- to \"chunk\" the linear activation, and count the fraction of spikes that were produced when the linear activation was lower that some given value). Make a plot of this curve.\n",
        "3. [If you are really motivated] fit a function to the relationship you find.\n",
        "\n",
        "There will be no tests for this final assignment, but plenty of bonus points if you can get to having a figure showing the nonlinearity curve of the neuron! \n"
      ]
    },
    {
      "cell_type": "code",
      "metadata": {
        "id": "P6rx2kzVfVSH"
      },
      "source": [],
      "execution_count": null,
      "outputs": []
    }
  ]
}